{
 "cells": [
  {
   "cell_type": "markdown",
   "id": "77f15079",
   "metadata": {},
   "source": [
    "# Curso de Python"
   ]
  },
  {
   "cell_type": "markdown",
   "id": "96f51ff9",
   "metadata": {},
   "source": [
    "El uso / APP de Python"
   ]
  },
  {
   "cell_type": "code",
   "execution_count": 1,
   "id": "d10263c0",
   "metadata": {},
   "outputs": [
    {
     "data": {
      "text/plain": [
       "10"
      ]
     },
     "execution_count": 1,
     "metadata": {},
     "output_type": "execute_result"
    }
   ],
   "source": [
    "5+5"
   ]
  },
  {
   "cell_type": "code",
   "execution_count": null,
   "id": "f50c71c5",
   "metadata": {},
   "outputs": [],
   "source": []
  },
  {
   "cell_type": "markdown",
   "id": "5962bca3",
   "metadata": {},
   "source": [
    "Otra app"
   ]
  },
  {
   "cell_type": "code",
   "execution_count": null,
   "id": "b7ff927d",
   "metadata": {},
   "outputs": [],
   "source": []
  }
 ],
 "metadata": {
  "kernelspec": {
   "display_name": "Python 3 (ipykernel)",
   "language": "python",
   "name": "python3"
  },
  "language_info": {
   "codemirror_mode": {
    "name": "ipython",
    "version": 3
   },
   "file_extension": ".py",
   "mimetype": "text/x-python",
   "name": "python",
   "nbconvert_exporter": "python",
   "pygments_lexer": "ipython3",
   "version": "3.11.4"
  }
 },
 "nbformat": 4,
 "nbformat_minor": 5
}
